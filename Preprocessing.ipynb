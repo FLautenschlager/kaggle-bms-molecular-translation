{
 "cells": [
  {
   "cell_type": "code",
   "execution_count": 11,
   "id": "boolean-lincoln",
   "metadata": {},
   "outputs": [],
   "source": [
    "import tensorflow as tf\n",
    "import pandas as pd\n",
    "import pickle"
   ]
  },
  {
   "cell_type": "code",
   "execution_count": 2,
   "id": "north-latino",
   "metadata": {},
   "outputs": [],
   "source": [
    "rootpath = \"data/bms-molecular-translation/\""
   ]
  },
  {
   "cell_type": "code",
   "execution_count": 3,
   "id": "amino-exposure",
   "metadata": {},
   "outputs": [],
   "source": [
    "train = pd.read_csv(rootpath + \"train_labels.csv\")"
   ]
  },
  {
   "cell_type": "code",
   "execution_count": 4,
   "id": "permanent-lindsay",
   "metadata": {},
   "outputs": [
    {
     "name": "stdout",
     "output_type": "stream",
     "text": [
      "train.shape: (2424186, 3)\n"
     ]
    },
    {
     "data": {
      "text/html": [
       "<div>\n",
       "<style scoped>\n",
       "    .dataframe tbody tr th:only-of-type {\n",
       "        vertical-align: middle;\n",
       "    }\n",
       "\n",
       "    .dataframe tbody tr th {\n",
       "        vertical-align: top;\n",
       "    }\n",
       "\n",
       "    .dataframe thead th {\n",
       "        text-align: right;\n",
       "    }\n",
       "</style>\n",
       "<table border=\"1\" class=\"dataframe\">\n",
       "  <thead>\n",
       "    <tr style=\"text-align: right;\">\n",
       "      <th></th>\n",
       "      <th>image_id</th>\n",
       "      <th>InChI</th>\n",
       "      <th>file_path</th>\n",
       "    </tr>\n",
       "  </thead>\n",
       "  <tbody>\n",
       "    <tr>\n",
       "      <th>0</th>\n",
       "      <td>000011a64c74</td>\n",
       "      <td>InChI=1S/C13H20OS/c1-9(2)8-15-13-6-5-10(3)7-12...</td>\n",
       "      <td>data/bms-molecular-translation/train/0/0/0/000...</td>\n",
       "    </tr>\n",
       "    <tr>\n",
       "      <th>1</th>\n",
       "      <td>000019cc0cd2</td>\n",
       "      <td>InChI=1S/C21H30O4/c1-12(22)25-14-6-8-20(2)13(1...</td>\n",
       "      <td>data/bms-molecular-translation/train/0/0/0/000...</td>\n",
       "    </tr>\n",
       "    <tr>\n",
       "      <th>2</th>\n",
       "      <td>0000252b6d2b</td>\n",
       "      <td>InChI=1S/C24H23N5O4/c1-14-13-15(7-8-17(14)28-1...</td>\n",
       "      <td>data/bms-molecular-translation/train/0/0/0/000...</td>\n",
       "    </tr>\n",
       "    <tr>\n",
       "      <th>3</th>\n",
       "      <td>000026b49b7e</td>\n",
       "      <td>InChI=1S/C17H24N2O4S/c1-12(20)18-13(14-7-6-10-...</td>\n",
       "      <td>data/bms-molecular-translation/train/0/0/0/000...</td>\n",
       "    </tr>\n",
       "    <tr>\n",
       "      <th>4</th>\n",
       "      <td>000026fc6c36</td>\n",
       "      <td>InChI=1S/C10H19N3O2S/c1-15-10(14)12-8-4-6-13(7...</td>\n",
       "      <td>data/bms-molecular-translation/train/0/0/0/000...</td>\n",
       "    </tr>\n",
       "  </tbody>\n",
       "</table>\n",
       "</div>"
      ],
      "text/plain": [
       "       image_id                                              InChI  \\\n",
       "0  000011a64c74  InChI=1S/C13H20OS/c1-9(2)8-15-13-6-5-10(3)7-12...   \n",
       "1  000019cc0cd2  InChI=1S/C21H30O4/c1-12(22)25-14-6-8-20(2)13(1...   \n",
       "2  0000252b6d2b  InChI=1S/C24H23N5O4/c1-14-13-15(7-8-17(14)28-1...   \n",
       "3  000026b49b7e  InChI=1S/C17H24N2O4S/c1-12(20)18-13(14-7-6-10-...   \n",
       "4  000026fc6c36  InChI=1S/C10H19N3O2S/c1-15-10(14)12-8-4-6-13(7...   \n",
       "\n",
       "                                           file_path  \n",
       "0  data/bms-molecular-translation/train/0/0/0/000...  \n",
       "1  data/bms-molecular-translation/train/0/0/0/000...  \n",
       "2  data/bms-molecular-translation/train/0/0/0/000...  \n",
       "3  data/bms-molecular-translation/train/0/0/0/000...  \n",
       "4  data/bms-molecular-translation/train/0/0/0/000...  "
      ]
     },
     "metadata": {},
     "output_type": "display_data"
    }
   ],
   "source": [
    "def get_train_file_path(image_id):\n",
    "    return rootpath + \"train/{}/{}/{}/{}.png\".format(\n",
    "        image_id[0], image_id[1], image_id[2], image_id \n",
    "    )\n",
    "\n",
    "train['file_path'] = train['image_id'].apply(get_train_file_path)\n",
    "\n",
    "print(f'train.shape: {train.shape}')\n",
    "display(train.head())"
   ]
  },
  {
   "cell_type": "code",
   "execution_count": 5,
   "id": "bound-canal",
   "metadata": {},
   "outputs": [],
   "source": [
    "def preprocess_label(InChI):\n",
    "    return \"<{}>\".format(InChI.replace(\"InChI=1S/\", \"\"))"
   ]
  },
  {
   "cell_type": "code",
   "execution_count": 6,
   "id": "exciting-lithuania",
   "metadata": {},
   "outputs": [],
   "source": [
    "train[\"InChI_clean\"] = train[\"InChI\"].apply(preprocess_label)"
   ]
  },
  {
   "cell_type": "code",
   "execution_count": 7,
   "id": "inclusive-barcelona",
   "metadata": {},
   "outputs": [
    {
     "data": {
      "text/html": [
       "<div>\n",
       "<style scoped>\n",
       "    .dataframe tbody tr th:only-of-type {\n",
       "        vertical-align: middle;\n",
       "    }\n",
       "\n",
       "    .dataframe tbody tr th {\n",
       "        vertical-align: top;\n",
       "    }\n",
       "\n",
       "    .dataframe thead th {\n",
       "        text-align: right;\n",
       "    }\n",
       "</style>\n",
       "<table border=\"1\" class=\"dataframe\">\n",
       "  <thead>\n",
       "    <tr style=\"text-align: right;\">\n",
       "      <th></th>\n",
       "      <th>image_id</th>\n",
       "      <th>InChI</th>\n",
       "      <th>file_path</th>\n",
       "      <th>InChI_clean</th>\n",
       "    </tr>\n",
       "  </thead>\n",
       "  <tbody>\n",
       "    <tr>\n",
       "      <th>0</th>\n",
       "      <td>000011a64c74</td>\n",
       "      <td>InChI=1S/C13H20OS/c1-9(2)8-15-13-6-5-10(3)7-12...</td>\n",
       "      <td>data/bms-molecular-translation/train/0/0/0/000...</td>\n",
       "      <td>&lt;C13H20OS/c1-9(2)8-15-13-6-5-10(3)7-12(13)11(4...</td>\n",
       "    </tr>\n",
       "    <tr>\n",
       "      <th>1</th>\n",
       "      <td>000019cc0cd2</td>\n",
       "      <td>InChI=1S/C21H30O4/c1-12(22)25-14-6-8-20(2)13(1...</td>\n",
       "      <td>data/bms-molecular-translation/train/0/0/0/000...</td>\n",
       "      <td>&lt;C21H30O4/c1-12(22)25-14-6-8-20(2)13(10-14)11-...</td>\n",
       "    </tr>\n",
       "    <tr>\n",
       "      <th>2</th>\n",
       "      <td>0000252b6d2b</td>\n",
       "      <td>InChI=1S/C24H23N5O4/c1-14-13-15(7-8-17(14)28-1...</td>\n",
       "      <td>data/bms-molecular-translation/train/0/0/0/000...</td>\n",
       "      <td>&lt;C24H23N5O4/c1-14-13-15(7-8-17(14)28-12-10-20(...</td>\n",
       "    </tr>\n",
       "    <tr>\n",
       "      <th>3</th>\n",
       "      <td>000026b49b7e</td>\n",
       "      <td>InChI=1S/C17H24N2O4S/c1-12(20)18-13(14-7-6-10-...</td>\n",
       "      <td>data/bms-molecular-translation/train/0/0/0/000...</td>\n",
       "      <td>&lt;C17H24N2O4S/c1-12(20)18-13(14-7-6-10-24-14)11...</td>\n",
       "    </tr>\n",
       "    <tr>\n",
       "      <th>4</th>\n",
       "      <td>000026fc6c36</td>\n",
       "      <td>InChI=1S/C10H19N3O2S/c1-15-10(14)12-8-4-6-13(7...</td>\n",
       "      <td>data/bms-molecular-translation/train/0/0/0/000...</td>\n",
       "      <td>&lt;C10H19N3O2S/c1-15-10(14)12-8-4-6-13(7-8)5-2-3...</td>\n",
       "    </tr>\n",
       "  </tbody>\n",
       "</table>\n",
       "</div>"
      ],
      "text/plain": [
       "       image_id                                              InChI  \\\n",
       "0  000011a64c74  InChI=1S/C13H20OS/c1-9(2)8-15-13-6-5-10(3)7-12...   \n",
       "1  000019cc0cd2  InChI=1S/C21H30O4/c1-12(22)25-14-6-8-20(2)13(1...   \n",
       "2  0000252b6d2b  InChI=1S/C24H23N5O4/c1-14-13-15(7-8-17(14)28-1...   \n",
       "3  000026b49b7e  InChI=1S/C17H24N2O4S/c1-12(20)18-13(14-7-6-10-...   \n",
       "4  000026fc6c36  InChI=1S/C10H19N3O2S/c1-15-10(14)12-8-4-6-13(7...   \n",
       "\n",
       "                                           file_path  \\\n",
       "0  data/bms-molecular-translation/train/0/0/0/000...   \n",
       "1  data/bms-molecular-translation/train/0/0/0/000...   \n",
       "2  data/bms-molecular-translation/train/0/0/0/000...   \n",
       "3  data/bms-molecular-translation/train/0/0/0/000...   \n",
       "4  data/bms-molecular-translation/train/0/0/0/000...   \n",
       "\n",
       "                                         InChI_clean  \n",
       "0  <C13H20OS/c1-9(2)8-15-13-6-5-10(3)7-12(13)11(4...  \n",
       "1  <C21H30O4/c1-12(22)25-14-6-8-20(2)13(10-14)11-...  \n",
       "2  <C24H23N5O4/c1-14-13-15(7-8-17(14)28-12-10-20(...  \n",
       "3  <C17H24N2O4S/c1-12(20)18-13(14-7-6-10-24-14)11...  \n",
       "4  <C10H19N3O2S/c1-15-10(14)12-8-4-6-13(7-8)5-2-3...  "
      ]
     },
     "execution_count": 7,
     "metadata": {},
     "output_type": "execute_result"
    }
   ],
   "source": [
    "train.head()"
   ]
  },
  {
   "cell_type": "code",
   "execution_count": 8,
   "id": "acute-delaware",
   "metadata": {},
   "outputs": [],
   "source": [
    "# tokenizing\n",
    "tokenizer = tf.keras.preprocessing.text.Tokenizer(oov_token=\"q\", filters=' ', lower=False, char_level=True)\n",
    "tokenizer.fit_on_texts(train[\"InChI_clean\"].values)\n",
    "tokenizer.word_index['q'] = 0\n",
    "tokenizer.index_word[0] = 'q'"
   ]
  },
  {
   "cell_type": "code",
   "execution_count": 9,
   "id": "imperial-dietary",
   "metadata": {},
   "outputs": [
    {
     "data": {
      "text/plain": [
       "40"
      ]
     },
     "execution_count": 9,
     "metadata": {},
     "output_type": "execute_result"
    }
   ],
   "source": [
    "vocab_size = max(tokenizer.index_word.keys())+1\n",
    "vocab_size"
   ]
  },
  {
   "cell_type": "code",
   "execution_count": 10,
   "id": "computational-merchant",
   "metadata": {},
   "outputs": [
    {
     "data": {
      "text/plain": [
       "(2424186, 396)"
      ]
     },
     "execution_count": 10,
     "metadata": {},
     "output_type": "execute_result"
    }
   ],
   "source": [
    "train_token = tf.keras.preprocessing.sequence.pad_sequences(tokenizer.texts_to_sequences(train[\"InChI_clean\"].values), padding='post')\n",
    "train_token.shape"
   ]
  },
  {
   "cell_type": "markdown",
   "id": "architectural-queens",
   "metadata": {},
   "source": [
    "## Saving "
   ]
  },
  {
   "cell_type": "code",
   "execution_count": 12,
   "id": "embedded-victory",
   "metadata": {},
   "outputs": [],
   "source": [
    "# saving\n",
    "with open('data/tokenizer.pickle', 'wb') as handle:\n",
    "    pickle.dump(tokenizer, handle, protocol=pickle.HIGHEST_PROTOCOL)"
   ]
  },
  {
   "cell_type": "code",
   "execution_count": 13,
   "id": "dental-lesson",
   "metadata": {},
   "outputs": [],
   "source": [
    "# saving\n",
    "with open('data/train_preprocessed.pickle', 'wb') as handle:\n",
    "    pickle.dump({\"paths\": train[\"file_path\"], \"train_token\": train_token}, handle, protocol=pickle.HIGHEST_PROTOCOL)"
   ]
  },
  {
   "cell_type": "code",
   "execution_count": null,
   "id": "extra-guyana",
   "metadata": {},
   "outputs": [],
   "source": []
  }
 ],
 "metadata": {
  "kernelspec": {
   "display_name": "bms-molecular-translation",
   "language": "python",
   "name": "bms-molecular-translation"
  },
  "language_info": {
   "codemirror_mode": {
    "name": "ipython",
    "version": 3
   },
   "file_extension": ".py",
   "mimetype": "text/x-python",
   "name": "python",
   "nbconvert_exporter": "python",
   "pygments_lexer": "ipython3",
   "version": "3.8.2"
  }
 },
 "nbformat": 4,
 "nbformat_minor": 5
}
